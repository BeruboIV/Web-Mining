{
 "cells": [
  {
   "cell_type": "code",
   "execution_count": 9,
   "metadata": {},
   "outputs": [
    {
     "name": "stdout",
     "output_type": "stream",
     "text": [
      "list of d\n",
      "am 1 [(1, 1)]\n",
      "as 1 [(1, 1)]\n",
      "better 1 [(2, 1)]\n",
      "burn 1 [(1, 1)]\n",
      "counting 1 [(2, 1)]\n",
      "days!! 1 [(2, 1)]\n",
      "everything 1 [(1, 1)]\n",
      "fire 1 [(1, 1)]\n",
      "for 1 [(2, 1)]\n",
      "Hardik 1 [(1, 1)]\n",
      "He 1 [(2, 1)]\n",
      "Hello 1 [(1, 1)]\n",
      "his 1 [(2, 1)]\n",
      "I 3 [(1, 2), (2, 1)]\n",
      "in 1 [(1, 1)]\n",
      "is 1 [(1, 1)]\n",
      "kill 1 [(2, 1)]\n",
      "middle 1 [(1, 1)]\n",
      "My 1 [(1, 1)]\n",
      "my 1 [(1, 1)]\n",
      "N! 1 [(2, 1)]\n",
      "name 1 [(1, 1)]\n",
      "Natarajan 1 [(2, 1)]\n",
      "P 1 [(2, 1)]\n",
      "path 1 [(1, 1)]\n",
      "Raj 1 [(1, 1)]\n",
      "start 1 [(2, 1)]\n",
      "sure 1 [(2, 1)]\n",
      "will 1 [(2, 1)]\n"
     ]
    }
   ],
   "source": [
    "def low(z):\n",
    "    return z.lower()\n",
    "def first(z):\n",
    "    return z[0]\n",
    "def squish(x):\n",
    "    s=set(x)\n",
    "    return sorted([(i,x.count(i)) for i in s])\n",
    "def clean(x):\n",
    "    y=''\n",
    "    s=['.',',','-','!','?']\n",
    "    for i in x:\n",
    "        if i in s:\n",
    "            continue\n",
    "        else:\n",
    "            y+=i\n",
    "    return y\n",
    "\n",
    "d={}\n",
    "ln=0\n",
    "for line in open('D:\\VIT\\STUDY\\Web Mining\\LAB\\DA2\\Hello.txt'):\n",
    "    ln+=1\n",
    "    line=clean(line)\n",
    "    l=line.split()\n",
    "    for word in l:\n",
    "        if word not in d:\n",
    "            d[word] = []\n",
    "            d[word].append(1)\n",
    "            d[word].append([ln])\n",
    "        else:\n",
    "            d[word][0] += 1\n",
    "            d[word][1].append(ln)\n",
    "print('list of d')\n",
    "ld = list(d)\n",
    "ld.sort(key=low)\n",
    "for k in ld:\n",
    "    print(k,d[k][0],squish(d[k][1]))"
   ]
  },
  {
   "cell_type": "code",
   "execution_count": null,
   "metadata": {},
   "outputs": [],
   "source": []
  }
 ],
 "metadata": {
  "kernelspec": {
   "display_name": "Python 3",
   "language": "python",
   "name": "python3"
  },
  "language_info": {
   "codemirror_mode": {
    "name": "ipython",
    "version": 3
   },
   "file_extension": ".py",
   "mimetype": "text/x-python",
   "name": "python",
   "nbconvert_exporter": "python",
   "pygments_lexer": "ipython3",
   "version": "3.7.6"
  }
 },
 "nbformat": 4,
 "nbformat_minor": 4
}
