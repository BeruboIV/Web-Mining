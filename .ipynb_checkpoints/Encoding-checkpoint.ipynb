{
 "cells": [
  {
   "cell_type": "code",
   "execution_count": 14,
   "metadata": {},
   "outputs": [],
   "source": [
    "from math import log, ceil\n",
    "log2 = lambda x : log(x,2)"
   ]
  },
  {
   "cell_type": "code",
   "execution_count": 15,
   "metadata": {},
   "outputs": [],
   "source": [
    "def binary(x, l = 1):\n",
    "    print(x,l)\n",
    "    fmt =  '{0:0%db}' % l\n",
    "    return fmt.format(x)"
   ]
  },
  {
   "cell_type": "code",
   "execution_count": 16,
   "metadata": {},
   "outputs": [],
   "source": [
    "def unary(x):\n",
    "    return x*'0'+'1'"
   ]
  },
  {
   "cell_type": "code",
   "execution_count": 17,
   "metadata": {},
   "outputs": [],
   "source": [
    "def elias_generic(lencoding, x):\n",
    "    if x == 0:\n",
    "        return '0'\n",
    "    l = 1+int(log2(x))\n",
    "    a = x - 2**(int(log2(x)))\n",
    "    k = int(log2(x))\n",
    "    return lencoding(l) + binary(a,k)"
   ]
  },
  {
   "cell_type": "code",
   "execution_count": 18,
   "metadata": {},
   "outputs": [],
   "source": [
    "def golomb(b, x):\n",
    "    q = int((x) / b)\n",
    "    r = int((x) % b)\n",
    "    l = int(ceil(log2(b)))\n",
    "    #print q,r,l\n",
    "    return unary(q) + binary(r, l)"
   ]
  },
  {
   "cell_type": "code",
   "execution_count": 19,
   "metadata": {},
   "outputs": [],
   "source": [
    "def elias_gamma(x):\n",
    "    return elias_generic(unary, x)"
   ]
  },
  {
   "cell_type": "code",
   "execution_count": 20,
   "metadata": {},
   "outputs": [],
   "source": [
    "def elias_delta(x):\n",
    "    return elias_generic(elias_gamma,x)"
   ]
  },
  {
   "cell_type": "code",
   "execution_count": null,
   "metadata": {},
   "outputs": [],
   "source": []
  },
  {
   "cell_type": "code",
   "execution_count": null,
   "metadata": {},
   "outputs": [],
   "source": []
  }
 ],
 "metadata": {
  "kernelspec": {
   "display_name": "Python 3",
   "language": "python",
   "name": "python3"
  },
  "language_info": {
   "codemirror_mode": {
    "name": "ipython",
    "version": 3
   },
   "file_extension": ".py",
   "mimetype": "text/x-python",
   "name": "python",
   "nbconvert_exporter": "python",
   "pygments_lexer": "ipython3",
   "version": "3.7.6"
  }
 },
 "nbformat": 4,
 "nbformat_minor": 4
}
