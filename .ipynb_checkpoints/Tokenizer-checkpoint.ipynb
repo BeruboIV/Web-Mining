{
 "cells": [
  {
   "cell_type": "code",
   "execution_count": null,
   "metadata": {},
   "outputs": [],
   "source": [
    "import nltk"
   ]
  },
  {
   "cell_type": "code",
   "execution_count": null,
   "metadata": {},
   "outputs": [],
   "source": [
    "text = \"Science and technology development are not at all useful for mankind. It has made life so discomfort that nobody has some time to think about themselves. Man was quite contented with life before the development of science and technology. Agricultural production increased with the decline in quality of goods. Life being lengthened along with various diseases. World is brought closer through various safer and faster communication and transport systems but nobody has some time to spend with their own family members. Modes of entertainment has increased tremendously but the physical activities have been decreased to a lot. \""
   ]
  },
  {
   "cell_type": "code",
   "execution_count": null,
   "metadata": {},
   "outputs": [],
   "source": [
    "from nltk.tokenize import RegexpTokenizer\n",
    "\n",
    "tokenizer = RegexpTokenizer(r'\\w+')\n",
    "l = tokenizer.tokenize(text.lower())\n",
    "print(l)"
   ]
  },
  {
   "cell_type": "code",
   "execution_count": null,
   "metadata": {},
   "outputs": [],
   "source": [
    "dist = nltk.FreqDist(l)"
   ]
  },
  {
   "cell_type": "code",
   "execution_count": null,
   "metadata": {},
   "outputs": [],
   "source": [
    "freq = sorted(dist.items(), key = lambda x : x[1], reverse = True)\n",
    "for x,y in freq:\n",
    "    print(\"{} - {}\".format(x,y))"
   ]
  }
 ],
 "metadata": {
  "kernelspec": {
   "display_name": "Python 3",
   "language": "python",
   "name": "python3"
  },
  "language_info": {
   "codemirror_mode": {
    "name": "ipython",
    "version": 3
   },
   "file_extension": ".py",
   "mimetype": "text/x-python",
   "name": "python",
   "nbconvert_exporter": "python",
   "pygments_lexer": "ipython3",
   "version": "3.7.6"
  }
 },
 "nbformat": 4,
 "nbformat_minor": 4
}
