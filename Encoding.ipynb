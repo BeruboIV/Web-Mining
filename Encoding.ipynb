{
 "cells": [
  {
   "cell_type": "code",
   "execution_count": 43,
   "metadata": {},
   "outputs": [],
   "source": [
    "import math\n",
    "log2 = lambda x : log(x,2)"
   ]
  },
  {
   "cell_type": "code",
   "execution_count": 44,
   "metadata": {},
   "outputs": [],
   "source": [
    "def binary(x, l = 1):\n",
    "    #print(x,l)\n",
    "    fmt =  '{0:0%db}' % l\n",
    "    return fmt.format(x)"
   ]
  },
  {
   "cell_type": "code",
   "execution_count": 45,
   "metadata": {},
   "outputs": [],
   "source": [
    "def unary(x):\n",
    "    return (x-1)*'0'+'1'"
   ]
  },
  {
   "cell_type": "code",
   "execution_count": 46,
   "metadata": {},
   "outputs": [],
   "source": [
    "def elias_generic(lencoding, x):\n",
    "    if x == 0:\n",
    "        return '0'\n",
    "    l = 1+int(log2(x))\n",
    "    a = x - 2**(int(log2(x)))\n",
    "    k = int(log2(x))\n",
    "    return lencoding(l) + binary(a,k)"
   ]
  },
  {
   "cell_type": "code",
   "execution_count": 47,
   "metadata": {},
   "outputs": [],
   "source": [
    "def golomb_coding(b, x):\n",
    "    q = int((x) / b)\n",
    "    r = int((x) % b)\n",
    "    l = int(ceil(log2(b)))\n",
    "    #print q,r,l\n",
    "    return unary(q) + binary(r, l)"
   ]
  },
  {
   "cell_type": "code",
   "execution_count": 48,
   "metadata": {},
   "outputs": [],
   "source": [
    "def elias_gamma(x):\n",
    "    return elias_generic(unary, x)"
   ]
  },
  {
   "cell_type": "code",
   "execution_count": 49,
   "metadata": {},
   "outputs": [],
   "source": [
    "def elias_delta(x):\n",
    "    return elias_generic(elias_gamma,x)"
   ]
  },
  {
   "cell_type": "code",
   "execution_count": 50,
   "metadata": {},
   "outputs": [
    {
     "name": "stdout",
     "output_type": "stream",
     "text": [
      "Decimal\tBinary\tUnary\t Elias Gamma\tElias Delta\tGolomb\n",
      "1\t1\t1\t 10\t\t100\t\t110\n",
      "2\t10\t01\t 010\t\t0100\t\t111\n",
      "3\t11\t001\t 011\t\t0101\t\t010\n",
      "4\t100\t0001\t 00100\t\t01100\t\t0110\n",
      "5\t101\t00001\t 00101\t\t01101\t\t0111\n",
      "6\t110\t000001\t 00110\t\t01110\t\t0010\n",
      "7\t111\t0000001\t 00111\t\t01111\t\t00110\n"
     ]
    }
   ],
   "source": [
    "print(\"Decimal\\t\" + \"Binary\\t\" + \"Unary\\t \" + \"Elias Gamma\\t\" + \"Elias Delta\\t\" + \"Golomb\")\n",
    "for i in range(1,8):\n",
    "    print(str(i) + \"\\t\" + str(binary(i)) + \"\\t\" + unary(i) + \"\\t \" + str(elias_gamma(i)) + \"\\t\\t\" + str(elias_delta(i)) + \"\\t\\t\" + golomb_coding(i, 3))"
   ]
  },
  {
   "cell_type": "code",
   "execution_count": null,
   "metadata": {},
   "outputs": [],
   "source": []
  }
 ],
 "metadata": {
  "kernelspec": {
   "display_name": "Python 3",
   "language": "python",
   "name": "python3"
  },
  "language_info": {
   "codemirror_mode": {
    "name": "ipython",
    "version": 3
   },
   "file_extension": ".py",
   "mimetype": "text/x-python",
   "name": "python",
   "nbconvert_exporter": "python",
   "pygments_lexer": "ipython3",
   "version": "3.7.6"
  }
 },
 "nbformat": 4,
 "nbformat_minor": 4
}
