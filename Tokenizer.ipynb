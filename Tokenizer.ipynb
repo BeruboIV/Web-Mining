{
 "cells": [
  {
   "cell_type": "code",
   "execution_count": 1,
   "metadata": {},
   "outputs": [],
   "source": [
    "import nltk"
   ]
  },
  {
   "cell_type": "code",
   "execution_count": 6,
   "metadata": {},
   "outputs": [],
   "source": [
    "text = \"Science and technology development are not at all useful for mankind. It has made life so discomfort that nobody has some time to think about themselves. Man was quite contented with life before the development of science and technology. Agricultural production increased with the decline in quality of goods. Life being lengthened along with various diseases. World is brought closer through various safer and faster communication and transport systems but nobody has some time to spend with their own family members. Modes of entertainment has increased tremendously but the physical activities have been decreased to a lot. \""
   ]
  },
  {
   "cell_type": "code",
   "execution_count": 7,
   "metadata": {},
   "outputs": [
    {
     "name": "stdout",
     "output_type": "stream",
     "text": [
      "['science', 'and', 'technology', 'development', 'are', 'not', 'at', 'all', 'useful', 'for', 'mankind', 'it', 'has', 'made', 'life', 'so', 'discomfort', 'that', 'nobody', 'has', 'some', 'time', 'to', 'think', 'about', 'themselves', 'man', 'was', 'quite', 'contented', 'with', 'life', 'before', 'the', 'development', 'of', 'science', 'and', 'technology', 'agricultural', 'production', 'increased', 'with', 'the', 'decline', 'in', 'quality', 'of', 'goods', 'life', 'being', 'lengthened', 'along', 'with', 'various', 'diseases', 'world', 'is', 'brought', 'closer', 'through', 'various', 'safer', 'and', 'faster', 'communication', 'and', 'transport', 'systems', 'but', 'nobody', 'has', 'some', 'time', 'to', 'spend', 'with', 'their', 'own', 'family', 'members', 'modes', 'of', 'entertainment', 'has', 'increased', 'tremendously', 'but', 'the', 'physical', 'activities', 'have', 'been', 'decreased', 'to', 'a', 'lot']\n"
     ]
    }
   ],
   "source": [
    "from nltk.tokenize import RegexpTokenizer\n",
    "\n",
    "tokenizer = RegexpTokenizer(r'\\w+')\n",
    "list_of_words = tokenizer.tokenize(text.lower())\n",
    "print(list_of_words)"
   ]
  },
  {
   "cell_type": "code",
   "execution_count": 8,
   "metadata": {},
   "outputs": [],
   "source": [
    "dist = nltk.FreqDist(list_of_words)"
   ]
  },
  {
   "cell_type": "code",
   "execution_count": 10,
   "metadata": {},
   "outputs": [
    {
     "name": "stdout",
     "output_type": "stream",
     "text": [
      "and - 4\n",
      "has - 4\n",
      "with - 4\n",
      "life - 3\n",
      "to - 3\n",
      "the - 3\n",
      "of - 3\n",
      "science - 2\n",
      "technology - 2\n",
      "development - 2\n",
      "nobody - 2\n",
      "some - 2\n",
      "time - 2\n",
      "increased - 2\n",
      "various - 2\n",
      "but - 2\n",
      "are - 1\n",
      "not - 1\n",
      "at - 1\n",
      "all - 1\n",
      "useful - 1\n",
      "for - 1\n",
      "mankind - 1\n",
      "it - 1\n",
      "made - 1\n",
      "so - 1\n",
      "discomfort - 1\n",
      "that - 1\n",
      "think - 1\n",
      "about - 1\n",
      "themselves - 1\n",
      "man - 1\n",
      "was - 1\n",
      "quite - 1\n",
      "contented - 1\n",
      "before - 1\n",
      "agricultural - 1\n",
      "production - 1\n",
      "decline - 1\n",
      "in - 1\n",
      "quality - 1\n",
      "goods - 1\n",
      "being - 1\n",
      "lengthened - 1\n",
      "along - 1\n",
      "diseases - 1\n",
      "world - 1\n",
      "is - 1\n",
      "brought - 1\n",
      "closer - 1\n",
      "through - 1\n",
      "safer - 1\n",
      "faster - 1\n",
      "communication - 1\n",
      "transport - 1\n",
      "systems - 1\n",
      "spend - 1\n",
      "their - 1\n",
      "own - 1\n",
      "family - 1\n",
      "members - 1\n",
      "modes - 1\n",
      "entertainment - 1\n",
      "tremendously - 1\n",
      "physical - 1\n",
      "activities - 1\n",
      "have - 1\n",
      "been - 1\n",
      "decreased - 1\n",
      "a - 1\n",
      "lot - 1\n"
     ]
    }
   ],
   "source": [
    "freq = sorted(dist.items(), key = lambda x : x[1], reverse = True)\n",
    "for x,y in freq:\n",
    "    print(\"{} - {}\".format(x,y))\n"
   ]
  },
  {
   "cell_type": "code",
   "execution_count": 11,
   "metadata": {},
   "outputs": [
    {
     "data": {
      "image/png": "[encoded data removed]",
      "text/plain": [
       "<Figure size 432x288 with 1 Axes>"
      ]
     },
     "metadata": {
      "needs_background": "light"
     },
     "output_type": "display_data"
    },
    {
     "data": {
      "text/plain": [
       "<matplotlib.axes._subplots.AxesSubplot at 0x2b4544d9908>"
      ]
     },
     "execution_count": 11,
     "metadata": {},
     "output_type": "execute_result"
    }
   ],
   "source": [
    "dist.plot(25, cumulative=False)"
   ]
  },
  {
   "cell_type": "code",
   "execution_count": null,
   "metadata": {},
   "outputs": [],
   "source": []
  }
 ],
 "metadata": {
  "kernelspec": {
   "display_name": "Python 3",
   "language": "python",
   "name": "python3"
  },
  "language_info": {
   "codemirror_mode": {
    "name": "ipython",
    "version": 3
   },
   "file_extension": ".py",
   "mimetype": "text/x-python",
   "name": "python",
   "nbconvert_exporter": "python",
   "pygments_lexer": "ipython3",
   "version": "3.7.6"
  }
 },
 "nbformat": 4,
 "nbformat_minor": 4
}
